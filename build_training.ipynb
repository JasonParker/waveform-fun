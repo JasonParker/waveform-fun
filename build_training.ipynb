{
 "cells": [
  {
   "cell_type": "code",
   "execution_count": 28,
   "id": "e1751477-2b43-45bb-b891-41d087beef7f",
   "metadata": {},
   "outputs": [],
   "source": [
    "#from bs4 import BeautifulSoup\n",
    "import gcsfs  ## Google Cloud Storage file system\n",
    "import os\n",
    "import pandas as pd\n",
    "import requests\n",
    "import tarfile\n",
    "import wfdb\n",
    "import matplotlib.pyplot as plt\n",
    "import numpy as np\n",
    "import datetime\n"
   ]
  },
  {
   "cell_type": "code",
   "execution_count": 29,
   "id": "7af22376-ec9f-4f69-9588-0fc0aae397ee",
   "metadata": {},
   "outputs": [],
   "source": [
    "from src.data.parsing import parse_txt\n",
    "\n",
    "from src.data.gcp_pull_waveform_data import generate_record_map,generate_waveform_dataset\n",
    "\n",
    "from src.data.bp_features import avg_bp,clean_bp_summary,merge_df"
   ]
  },
  {
   "cell_type": "code",
   "execution_count": 30,
   "id": "38214f81-47a8-473f-be55-1c2873e9b774",
   "metadata": {},
   "outputs": [
    {
     "name": "stdout",
     "output_type": "stream",
     "text": [
      "env: PROJECT_ID=qwiklabs-gcp-04-133e595cc3fe\n"
     ]
    }
   ],
   "source": [
    "%env PROJECT_ID=qwiklabs-gcp-04-133e595cc3fe"
   ]
  },
  {
   "cell_type": "code",
   "execution_count": 31,
   "id": "0393bdd2-cef7-451d-953f-21b023d601bd",
   "metadata": {},
   "outputs": [
    {
     "data": {
      "text/plain": [
       "['physionet_2009/mimic2cdb',\n",
       " 'physionet_2009/processed',\n",
       " 'physionet_2009/test-set-a',\n",
       " 'physionet_2009/test-set-b',\n",
       " 'physionet_2009/train_wave']"
      ]
     },
     "execution_count": 31,
     "metadata": {},
     "output_type": "execute_result"
    }
   ],
   "source": [
    "fs = gcsfs.GCSFileSystem(project=os.environ['PROJECT_ID'])\n",
    "bucket = 'physionet_2009'\n",
    "fs.ls(bucket)"
   ]
  },
  {
   "cell_type": "code",
   "execution_count": 32,
   "id": "ccf38a94-b6f6-4f00-82fe-3a9b359ba7aa",
   "metadata": {},
   "outputs": [],
   "source": [
    "# Get Train data Id"
   ]
  },
  {
   "cell_type": "code",
   "execution_count": 33,
   "id": "a9216de0-ccd1-48d3-9462-e8d503ba3cd3",
   "metadata": {},
   "outputs": [
    {
     "data": {
      "text/plain": [
       "True"
      ]
     },
     "execution_count": 33,
     "metadata": {},
     "output_type": "execute_result"
    }
   ],
   "source": [
    "training_set = [\n",
    "'s21775', 's20658', 's22466','s05336', 's06349',\n",
    "'s08718', 's20794', 's24799', 's26318', 's14204',\n",
    "'s25699', 's07125', 's19208', 's12821', 's06637',\n",
    "    \n",
    "'s02395', 's08779', 's23641', 's24924', 's00439', \n",
    "'s23015', 's19603', 's02172', 's26105', 's23594',\n",
    "'s21817', 's24984', 's25602', 's23591', 's15687',\n",
    "    \n",
    "'s17765', 's04860', 's26097', 's00318', 's14495',\n",
    "'s22888', 's26296', 's06180', 's07468', 's24004',\n",
    "'s03133', 's02280', 's09672', 's19418', 's15465',\n",
    "    \n",
    "'s05786', 's25222', 's02561', 's24923', 's16019',\n",
    "'s04286', 's17069', 's07860', 's23020', 's24431',\n",
    "'s22657', 's09341', 's05126', 's10611', 's05289'\n",
    "]\n",
    "\n",
    "training_labels = [\n",
    "'H1', 'H1', 'H1', 'H1', 'H1', 'H1', 'H1', 'H1',\n",
    "'H1', 'H1', 'H1', 'H1', 'H1', 'H1', 'H1',\n",
    "    \n",
    "'H2', 'H2', 'H2', 'H2', 'H2', 'H2', 'H2', 'H2',\n",
    "'H2', 'H2', 'H2', 'H2', 'H2', 'H2', 'H2',\n",
    "    \n",
    "'C1', 'C1', 'C1', 'C1', 'C1', 'C1', 'C1', 'C1', \n",
    "'C1', 'C1', 'C1', 'C1', 'C1', 'C1', 'C1',\n",
    "\n",
    "'C2', 'C2', 'C2', 'C2', 'C2', 'C2', 'C2', 'C2',\n",
    "'C2', 'C2', 'C2', 'C2', 'C2', 'C2', 'C2'\n",
    "]\n",
    "\n",
    "len(training_set) == len(training_labels)"
   ]
  },
  {
   "cell_type": "code",
   "execution_count": 34,
   "id": "cd1a2d15-9d3a-42b2-b210-69386d08e775",
   "metadata": {},
   "outputs": [],
   "source": [
    "# Pull in records"
   ]
  },
  {
   "cell_type": "code",
   "execution_count": 35,
   "id": "7f59d73e-fbb3-4b96-9a30-8ec6bd6c5987",
   "metadata": {},
   "outputs": [
    {
     "name": "stdout",
     "output_type": "stream",
     "text": [
      "Dimensions of data set: (0, 6)\n",
      "Data set reflects data for 0 clinical IDs\n",
      "Data set reflects data for 0 waveform IDs\n"
     ]
    }
   ],
   "source": [
    "record_map = generate_record_map(bucket, fs, training_set)"
   ]
  },
  {
   "cell_type": "code",
   "execution_count": 15,
   "id": "f26b7fe0-8f2e-4eee-a9df-0b2497fe848d",
   "metadata": {},
   "outputs": [],
   "source": [
    "# turn into useful data frame"
   ]
  },
  {
   "cell_type": "code",
   "execution_count": 21,
   "id": "7f9fc39b-a99c-467f-bc32-b0a8569cafde",
   "metadata": {},
   "outputs": [],
   "source": [
    "x = {e:generate_waveform_dataset(e, record_map) for e in record_map['waveform_entities'][0:2]}"
   ]
  },
  {
   "cell_type": "code",
   "execution_count": 27,
   "id": "9070b8e8-5e7a-4d5b-bc6e-d71c1353c73e",
   "metadata": {},
   "outputs": [
    {
     "data": {
      "text/plain": [
       "{}"
      ]
     },
     "execution_count": 27,
     "metadata": {},
     "output_type": "execute_result"
    }
   ],
   "source": [
    "# calculate buckets\n",
    "x"
   ]
  },
  {
   "cell_type": "code",
   "execution_count": 26,
   "id": "229e2cdd-ba65-4bed-88cb-7015d1a25ff3",
   "metadata": {},
   "outputs": [
    {
     "data": {
      "text/plain": [
       "{}"
      ]
     },
     "execution_count": 26,
     "metadata": {},
     "output_type": "execute_result"
    }
   ],
   "source": [
    "#avg_bp(x['a40802'], time_chunk = 60 * 5, time_window = 60,waveform_type = 'ABP')\n",
    "\n",
    "bp_summary_outcome = {e: avg_bp(x[e], time_chunk = 60 * 5, time_window = 60,waveform_type = 'ABP') for e in x.keys()}\n",
    "bp_summary_outcome = {e: clean_bp_summary(x) for e, x in bp_summary_outcome.items()}\n",
    "bp_summary_outcome"
   ]
  },
  {
   "cell_type": "code",
   "execution_count": 24,
   "id": "54576324-db83-40eb-9270-7fc77e8a469d",
   "metadata": {},
   "outputs": [],
   "source": [
    "bp_summary_inputs = {e: avg_bp(x[e], time_chunk = 60 * 20, time_window = 60,waveform_type = 'ABP') for e in x.keys()}\n",
    "bp_summary_inputs = {e: clean_bp_summary(x) for e, x in bp_summary_inputs.items()}"
   ]
  },
  {
   "cell_type": "code",
   "execution_count": 25,
   "id": "f5d57fe0-b522-4244-9bc7-943b34507a7b",
   "metadata": {},
   "outputs": [
    {
     "ename": "ValueError",
     "evalue": "No objects to concatenate",
     "output_type": "error",
     "traceback": [
      "\u001b[0;31m---------------------------------------------------------------------------\u001b[0m",
      "\u001b[0;31mValueError\u001b[0m                                Traceback (most recent call last)",
      "\u001b[0;32m/tmp/ipykernel_31121/3259828680.py\u001b[0m in \u001b[0;36m<module>\u001b[0;34m\u001b[0m\n\u001b[0;32m----> 1\u001b[0;31m \u001b[0mfinal_df\u001b[0m \u001b[0;34m=\u001b[0m \u001b[0mpd\u001b[0m\u001b[0;34m.\u001b[0m\u001b[0mconcat\u001b[0m\u001b[0;34m(\u001b[0m\u001b[0;34m[\u001b[0m\u001b[0mmerge_df\u001b[0m\u001b[0;34m(\u001b[0m\u001b[0me_in\u001b[0m\u001b[0;34m,\u001b[0m\u001b[0me_out\u001b[0m\u001b[0;34m,\u001b[0m\u001b[0mdf_in\u001b[0m\u001b[0;34m,\u001b[0m\u001b[0mdf_out\u001b[0m\u001b[0;34m)\u001b[0m \u001b[0;32mfor\u001b[0m \u001b[0;34m(\u001b[0m\u001b[0me_in\u001b[0m\u001b[0;34m,\u001b[0m \u001b[0mdf_in\u001b[0m\u001b[0;34m)\u001b[0m\u001b[0;34m,\u001b[0m\u001b[0;34m(\u001b[0m\u001b[0me_out\u001b[0m\u001b[0;34m,\u001b[0m \u001b[0mdf_out\u001b[0m\u001b[0;34m)\u001b[0m \u001b[0;32min\u001b[0m \u001b[0mzip\u001b[0m\u001b[0;34m(\u001b[0m\u001b[0mbp_summary_inputs\u001b[0m\u001b[0;34m.\u001b[0m\u001b[0mitems\u001b[0m\u001b[0;34m(\u001b[0m\u001b[0;34m)\u001b[0m\u001b[0;34m,\u001b[0m \u001b[0mbp_summary_outcome\u001b[0m\u001b[0;34m.\u001b[0m\u001b[0mitems\u001b[0m\u001b[0;34m(\u001b[0m\u001b[0;34m)\u001b[0m\u001b[0;34m)\u001b[0m\u001b[0;34m]\u001b[0m\u001b[0;34m)\u001b[0m\u001b[0;34m\u001b[0m\u001b[0;34m\u001b[0m\u001b[0m\n\u001b[0m",
      "\u001b[0;32m/opt/conda/lib/python3.7/site-packages/pandas/util/_decorators.py\u001b[0m in \u001b[0;36mwrapper\u001b[0;34m(*args, **kwargs)\u001b[0m\n\u001b[1;32m    309\u001b[0m                     \u001b[0mstacklevel\u001b[0m\u001b[0;34m=\u001b[0m\u001b[0mstacklevel\u001b[0m\u001b[0;34m,\u001b[0m\u001b[0;34m\u001b[0m\u001b[0;34m\u001b[0m\u001b[0m\n\u001b[1;32m    310\u001b[0m                 )\n\u001b[0;32m--> 311\u001b[0;31m             \u001b[0;32mreturn\u001b[0m \u001b[0mfunc\u001b[0m\u001b[0;34m(\u001b[0m\u001b[0;34m*\u001b[0m\u001b[0margs\u001b[0m\u001b[0;34m,\u001b[0m \u001b[0;34m**\u001b[0m\u001b[0mkwargs\u001b[0m\u001b[0;34m)\u001b[0m\u001b[0;34m\u001b[0m\u001b[0;34m\u001b[0m\u001b[0m\n\u001b[0m\u001b[1;32m    312\u001b[0m \u001b[0;34m\u001b[0m\u001b[0m\n\u001b[1;32m    313\u001b[0m         \u001b[0;32mreturn\u001b[0m \u001b[0mwrapper\u001b[0m\u001b[0;34m\u001b[0m\u001b[0;34m\u001b[0m\u001b[0m\n",
      "\u001b[0;32m/opt/conda/lib/python3.7/site-packages/pandas/core/reshape/concat.py\u001b[0m in \u001b[0;36mconcat\u001b[0;34m(objs, axis, join, ignore_index, keys, levels, names, verify_integrity, sort, copy)\u001b[0m\n\u001b[1;32m    302\u001b[0m         \u001b[0mverify_integrity\u001b[0m\u001b[0;34m=\u001b[0m\u001b[0mverify_integrity\u001b[0m\u001b[0;34m,\u001b[0m\u001b[0;34m\u001b[0m\u001b[0;34m\u001b[0m\u001b[0m\n\u001b[1;32m    303\u001b[0m         \u001b[0mcopy\u001b[0m\u001b[0;34m=\u001b[0m\u001b[0mcopy\u001b[0m\u001b[0;34m,\u001b[0m\u001b[0;34m\u001b[0m\u001b[0;34m\u001b[0m\u001b[0m\n\u001b[0;32m--> 304\u001b[0;31m         \u001b[0msort\u001b[0m\u001b[0;34m=\u001b[0m\u001b[0msort\u001b[0m\u001b[0;34m,\u001b[0m\u001b[0;34m\u001b[0m\u001b[0;34m\u001b[0m\u001b[0m\n\u001b[0m\u001b[1;32m    305\u001b[0m     )\n\u001b[1;32m    306\u001b[0m \u001b[0;34m\u001b[0m\u001b[0m\n",
      "\u001b[0;32m/opt/conda/lib/python3.7/site-packages/pandas/core/reshape/concat.py\u001b[0m in \u001b[0;36m__init__\u001b[0;34m(self, objs, axis, join, keys, levels, names, ignore_index, verify_integrity, copy, sort)\u001b[0m\n\u001b[1;32m    349\u001b[0m \u001b[0;34m\u001b[0m\u001b[0m\n\u001b[1;32m    350\u001b[0m         \u001b[0;32mif\u001b[0m \u001b[0mlen\u001b[0m\u001b[0;34m(\u001b[0m\u001b[0mobjs\u001b[0m\u001b[0;34m)\u001b[0m \u001b[0;34m==\u001b[0m \u001b[0;36m0\u001b[0m\u001b[0;34m:\u001b[0m\u001b[0;34m\u001b[0m\u001b[0;34m\u001b[0m\u001b[0m\n\u001b[0;32m--> 351\u001b[0;31m             \u001b[0;32mraise\u001b[0m \u001b[0mValueError\u001b[0m\u001b[0;34m(\u001b[0m\u001b[0;34m\"No objects to concatenate\"\u001b[0m\u001b[0;34m)\u001b[0m\u001b[0;34m\u001b[0m\u001b[0;34m\u001b[0m\u001b[0m\n\u001b[0m\u001b[1;32m    352\u001b[0m \u001b[0;34m\u001b[0m\u001b[0m\n\u001b[1;32m    353\u001b[0m         \u001b[0;32mif\u001b[0m \u001b[0mkeys\u001b[0m \u001b[0;32mis\u001b[0m \u001b[0;32mNone\u001b[0m\u001b[0;34m:\u001b[0m\u001b[0;34m\u001b[0m\u001b[0;34m\u001b[0m\u001b[0m\n",
      "\u001b[0;31mValueError\u001b[0m: No objects to concatenate"
     ]
    }
   ],
   "source": [
    "final_df = pd.concat([merge_df(e_in,e_out,df_in,df_out) for (e_in, df_in),(e_out, df_out) in zip(bp_summary_inputs.items(), bp_summary_outcome.items())])"
   ]
  },
  {
   "cell_type": "code",
   "execution_count": null,
   "id": "7a675738-e6f4-45e4-83bd-32e93d85e39d",
   "metadata": {},
   "outputs": [],
   "source": [
    "final_df\n",
    "#df_out = bp_summary_outcome['a40802'] \n",
    "#df_in = bp_summary_inputs['a40802']"
   ]
  },
  {
   "cell_type": "code",
   "execution_count": null,
   "id": "dc1cdaa6-01de-4f54-bc1e-8da2c426b789",
   "metadata": {},
   "outputs": [],
   "source": [
    "#final_df = df_out.merge(right = df_in, on = 'start_window', suffixes = ['_outputs','_inputs'])"
   ]
  },
  {
   "cell_type": "code",
   "execution_count": null,
   "id": "8af07631-19c0-4c33-ba73-34156cdef8c5",
   "metadata": {},
   "outputs": [],
   "source": []
  },
  {
   "cell_type": "code",
   "execution_count": null,
   "id": "d39494dd-36c6-467d-a333-62d5bfbeed3b",
   "metadata": {},
   "outputs": [],
   "source": []
  }
 ],
 "metadata": {
  "environment": {
   "name": "tf2-gpu.2-3.m81",
   "type": "gcloud",
   "uri": "gcr.io/deeplearning-platform-release/tf2-gpu.2-3:m81"
  },
  "kernelspec": {
   "display_name": "Python 3",
   "language": "python",
   "name": "python3"
  },
  "language_info": {
   "codemirror_mode": {
    "name": "ipython",
    "version": 3
   },
   "file_extension": ".py",
   "mimetype": "text/x-python",
   "name": "python",
   "nbconvert_exporter": "python",
   "pygments_lexer": "ipython3",
   "version": "3.7.10"
  }
 },
 "nbformat": 4,
 "nbformat_minor": 5
}
