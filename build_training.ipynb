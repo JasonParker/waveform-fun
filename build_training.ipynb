{
 "cells": [
  {
   "cell_type": "code",
   "execution_count": 1,
   "id": "e1751477-2b43-45bb-b891-41d087beef7f",
   "metadata": {},
   "outputs": [],
   "source": [
    "#from bs4 import BeautifulSoup\n",
    "import gcsfs  ## Google Cloud Storage file system\n",
    "import os\n",
    "import pandas as pd\n",
    "import requests\n",
    "import tarfile\n",
    "import wfdb\n",
    "import matplotlib.pyplot as plt\n",
    "import numpy as np\n",
    "import datetime"
   ]
  },
  {
   "cell_type": "code",
   "execution_count": 2,
   "id": "7af22376-ec9f-4f69-9588-0fc0aae397ee",
   "metadata": {},
   "outputs": [],
   "source": [
    "from src.data.parsing import parse_txt\n",
    "\n",
    "from src.data.gcp_pull_waveform_data import generate_record_map,generate_waveform_dataset\n",
    "\n",
    "from src.data.bp_features import avg_bp"
   ]
  },
  {
   "cell_type": "code",
   "execution_count": 3,
   "id": "38214f81-47a8-473f-be55-1c2873e9b774",
   "metadata": {},
   "outputs": [
    {
     "name": "stdout",
     "output_type": "stream",
     "text": [
      "env: PROJECT_ID=qwiklabs-gcp-04-133e595cc3fe\n"
     ]
    }
   ],
   "source": [
    "%env PROJECT_ID="
   ]
  },
  {
   "cell_type": "code",
   "execution_count": 4,
   "id": "0393bdd2-cef7-451d-953f-21b023d601bd",
   "metadata": {},
   "outputs": [
    {
     "data": {
      "text/plain": [
       "['physionet_2009/mimic2cdb',\n",
       " 'physionet_2009/test-set-a',\n",
       " 'physionet_2009/test-set-b',\n",
       " 'physionet_2009/train_wave']"
      ]
     },
     "execution_count": 4,
     "metadata": {},
     "output_type": "execute_result"
    }
   ],
   "source": [
    "fs = gcsfs.GCSFileSystem(project=os.environ['PROJECT_ID'])\n",
    "bucket = 'physionet_2009'\n",
    "fs.ls(bucket)"
   ]
  },
  {
   "cell_type": "code",
   "execution_count": 5,
   "id": "ccf38a94-b6f6-4f00-82fe-3a9b359ba7aa",
   "metadata": {},
   "outputs": [],
   "source": [
    "# Get Train data Id"
   ]
  },
  {
   "cell_type": "code",
   "execution_count": 6,
   "id": "a9216de0-ccd1-48d3-9462-e8d503ba3cd3",
   "metadata": {},
   "outputs": [
    {
     "data": {
      "text/plain": [
       "True"
      ]
     },
     "execution_count": 6,
     "metadata": {},
     "output_type": "execute_result"
    }
   ],
   "source": [
    "training_set = [\n",
    "'s21775', 's20658', 's22466','s05336', 's06349',\n",
    "'s08718', 's20794', 's24799', 's26318', 's14204',\n",
    "'s25699', 's07125', 's19208', 's12821', 's06637',\n",
    "    \n",
    "'s02395', 's08779', 's23641', 's24924', 's00439', \n",
    "'s23015', 's19603', 's02172', 's26105', 's23594',\n",
    "'s21817', 's24984', 's25602', 's23591', 's15687',\n",
    "    \n",
    "'s17765', 's04860', 's26097', 's00318', 's14495',\n",
    "'s22888', 's26296', 's06180', 's07468', 's24004',\n",
    "'s03133', 's02280', 's09672', 's19418', 's15465',\n",
    "    \n",
    "'s05786', 's25222', 's02561', 's24923', 's16019',\n",
    "'s04286', 's17069', 's07860', 's23020', 's24431',\n",
    "'s22657', 's09341', 's05126', 's10611', 's05289'\n",
    "]\n",
    "\n",
    "training_labels = [\n",
    "'H1', 'H1', 'H1', 'H1', 'H1', 'H1', 'H1', 'H1',\n",
    "'H1', 'H1', 'H1', 'H1', 'H1', 'H1', 'H1',\n",
    "    \n",
    "'H2', 'H2', 'H2', 'H2', 'H2', 'H2', 'H2', 'H2',\n",
    "'H2', 'H2', 'H2', 'H2', 'H2', 'H2', 'H2',\n",
    "    \n",
    "'C1', 'C1', 'C1', 'C1', 'C1', 'C1', 'C1', 'C1', \n",
    "'C1', 'C1', 'C1', 'C1', 'C1', 'C1', 'C1',\n",
    "\n",
    "'C2', 'C2', 'C2', 'C2', 'C2', 'C2', 'C2', 'C2',\n",
    "'C2', 'C2', 'C2', 'C2', 'C2', 'C2', 'C2'\n",
    "]\n",
    "\n",
    "len(training_set) == len(training_labels)"
   ]
  },
  {
   "cell_type": "code",
   "execution_count": 7,
   "id": "cd1a2d15-9d3a-42b2-b210-69386d08e775",
   "metadata": {},
   "outputs": [],
   "source": [
    "# Pull in records"
   ]
  },
  {
   "cell_type": "code",
   "execution_count": 8,
   "id": "7f59d73e-fbb3-4b96-9a30-8ec6bd6c5987",
   "metadata": {},
   "outputs": [
    {
     "name": "stdout",
     "output_type": "stream",
     "text": [
      "Dimensions of data set: (82, 6)\n",
      "Data set reflects data for 60 clinical IDs\n",
      "Data set reflects data for 82 waveform IDs\n"
     ]
    }
   ],
   "source": [
    "record_map = generate_record_map(bucket, fs, training_set)"
   ]
  },
  {
   "cell_type": "code",
   "execution_count": 9,
   "id": "f26b7fe0-8f2e-4eee-a9df-0b2497fe848d",
   "metadata": {},
   "outputs": [],
   "source": [
    "# turn into useful data frame"
   ]
  },
  {
   "cell_type": "code",
   "execution_count": 10,
   "id": "7f9fc39b-a99c-467f-bc32-b0a8569cafde",
   "metadata": {},
   "outputs": [
    {
     "name": "stdout",
     "output_type": "stream",
     "text": [
      "{'Clinical': 's00318', 'Wave': 'a40802', 'Sex': 'M', 'Age': '58', 'Birthdate': '11/10/1950', 'Waveform': '14/07/2009'}\n"
     ]
    }
   ],
   "source": [
    "x = {e:generate_waveform_dataset(e, record_map) for e in record_map['waveform_entities'][0:1]}"
   ]
  },
  {
   "cell_type": "code",
   "execution_count": 11,
   "id": "9070b8e8-5e7a-4d5b-bc6e-d71c1353c73e",
   "metadata": {},
   "outputs": [],
   "source": [
    "# calculate buckets"
   ]
  },
  {
   "cell_type": "code",
   "execution_count": 12,
   "id": "229e2cdd-ba65-4bed-88cb-7015d1a25ff3",
   "metadata": {},
   "outputs": [
    {
     "name": "stderr",
     "output_type": "stream",
     "text": [
      "/opt/conda/lib/python3.7/site-packages/numpy/core/fromnumeric.py:3373: RuntimeWarning: Mean of empty slice.\n",
      "  out=out, **kwargs)\n",
      "/opt/conda/lib/python3.7/site-packages/numpy/core/_methods.py:170: RuntimeWarning: invalid value encountered in double_scalars\n",
      "  ret = ret.dtype.type(ret / rcount)\n"
     ]
    },
    {
     "ename": "AttributeError",
     "evalue": "'DataFrame' object has no attribute 'tolist'",
     "output_type": "error",
     "traceback": [
      "\u001b[0;31m---------------------------------------------------------------------------\u001b[0m",
      "\u001b[0;31mAttributeError\u001b[0m                            Traceback (most recent call last)",
      "\u001b[0;32m/tmp/ipykernel_28811/1386771046.py\u001b[0m in \u001b[0;36m<module>\u001b[0;34m\u001b[0m\n\u001b[1;32m      1\u001b[0m \u001b[0;31m#avg_bp(x['a40802'], time_chunk = 60 * 5, time_window = 60,waveform_type = 'ABP')\u001b[0m\u001b[0;34m\u001b[0m\u001b[0;34m\u001b[0m\u001b[0;34m\u001b[0m\u001b[0m\n\u001b[1;32m      2\u001b[0m \u001b[0;34m\u001b[0m\u001b[0m\n\u001b[0;32m----> 3\u001b[0;31m \u001b[0mbp_summary\u001b[0m \u001b[0;34m=\u001b[0m \u001b[0;34m[\u001b[0m\u001b[0mavg_bp\u001b[0m\u001b[0;34m(\u001b[0m\u001b[0mx\u001b[0m\u001b[0;34m[\u001b[0m\u001b[0me\u001b[0m\u001b[0;34m]\u001b[0m\u001b[0;34m,\u001b[0m \u001b[0mtime_chunk\u001b[0m \u001b[0;34m=\u001b[0m \u001b[0;36m60\u001b[0m \u001b[0;34m*\u001b[0m \u001b[0;36m5\u001b[0m\u001b[0;34m,\u001b[0m \u001b[0mtime_window\u001b[0m \u001b[0;34m=\u001b[0m \u001b[0;36m60\u001b[0m\u001b[0;34m,\u001b[0m\u001b[0mwaveform_type\u001b[0m \u001b[0;34m=\u001b[0m \u001b[0;34m'ABP'\u001b[0m\u001b[0;34m)\u001b[0m \u001b[0;32mfor\u001b[0m \u001b[0me\u001b[0m \u001b[0;32min\u001b[0m \u001b[0mx\u001b[0m\u001b[0;34m.\u001b[0m\u001b[0mkeys\u001b[0m\u001b[0;34m(\u001b[0m\u001b[0;34m)\u001b[0m\u001b[0;34m]\u001b[0m\u001b[0;34m\u001b[0m\u001b[0;34m\u001b[0m\u001b[0m\n\u001b[0m",
      "\u001b[0;32m/tmp/ipykernel_28811/1386771046.py\u001b[0m in \u001b[0;36m<listcomp>\u001b[0;34m(.0)\u001b[0m\n\u001b[1;32m      1\u001b[0m \u001b[0;31m#avg_bp(x['a40802'], time_chunk = 60 * 5, time_window = 60,waveform_type = 'ABP')\u001b[0m\u001b[0;34m\u001b[0m\u001b[0;34m\u001b[0m\u001b[0;34m\u001b[0m\u001b[0m\n\u001b[1;32m      2\u001b[0m \u001b[0;34m\u001b[0m\u001b[0m\n\u001b[0;32m----> 3\u001b[0;31m \u001b[0mbp_summary\u001b[0m \u001b[0;34m=\u001b[0m \u001b[0;34m[\u001b[0m\u001b[0mavg_bp\u001b[0m\u001b[0;34m(\u001b[0m\u001b[0mx\u001b[0m\u001b[0;34m[\u001b[0m\u001b[0me\u001b[0m\u001b[0;34m]\u001b[0m\u001b[0;34m,\u001b[0m \u001b[0mtime_chunk\u001b[0m \u001b[0;34m=\u001b[0m \u001b[0;36m60\u001b[0m \u001b[0;34m*\u001b[0m \u001b[0;36m5\u001b[0m\u001b[0;34m,\u001b[0m \u001b[0mtime_window\u001b[0m \u001b[0;34m=\u001b[0m \u001b[0;36m60\u001b[0m\u001b[0;34m,\u001b[0m\u001b[0mwaveform_type\u001b[0m \u001b[0;34m=\u001b[0m \u001b[0;34m'ABP'\u001b[0m\u001b[0;34m)\u001b[0m \u001b[0;32mfor\u001b[0m \u001b[0me\u001b[0m \u001b[0;32min\u001b[0m \u001b[0mx\u001b[0m\u001b[0;34m.\u001b[0m\u001b[0mkeys\u001b[0m\u001b[0;34m(\u001b[0m\u001b[0;34m)\u001b[0m\u001b[0;34m]\u001b[0m\u001b[0;34m\u001b[0m\u001b[0;34m\u001b[0m\u001b[0m\n\u001b[0m",
      "\u001b[0;32m~/waveform-fun/src/data/bp_features.py\u001b[0m in \u001b[0;36mavg_bp\u001b[0;34m(x, time_chunk, time_window, waveform_type)\u001b[0m\n\u001b[1;32m    125\u001b[0m         \u001b[0mavg_dias\u001b[0m \u001b[0;34m=\u001b[0m \u001b[0mnp\u001b[0m\u001b[0;34m.\u001b[0m\u001b[0mmean\u001b[0m\u001b[0;34m(\u001b[0m\u001b[0;34m[\u001b[0m\u001b[0mx\u001b[0m\u001b[0;34m[\u001b[0m\u001b[0;36m1\u001b[0m\u001b[0;34m]\u001b[0m \u001b[0;32mfor\u001b[0m \u001b[0mx\u001b[0m \u001b[0;32min\u001b[0m \u001b[0mdias_pressure\u001b[0m\u001b[0;34m]\u001b[0m\u001b[0;34m)\u001b[0m\u001b[0;34m\u001b[0m\u001b[0;34m\u001b[0m\u001b[0m\n\u001b[1;32m    126\u001b[0m         \u001b[0mavg_maps\u001b[0m \u001b[0;34m=\u001b[0m \u001b[0;34m(\u001b[0m\u001b[0mavg_sys\u001b[0m \u001b[0;34m+\u001b[0m \u001b[0;36m2\u001b[0m \u001b[0;34m*\u001b[0m \u001b[0;34m(\u001b[0m\u001b[0mavg_dias\u001b[0m\u001b[0;34m)\u001b[0m\u001b[0;34m)\u001b[0m\u001b[0;34m/\u001b[0m\u001b[0;36m3\u001b[0m\u001b[0;34m\u001b[0m\u001b[0;34m\u001b[0m\u001b[0m\n\u001b[0;32m--> 127\u001b[0;31m         \u001b[0mprint\u001b[0m\u001b[0;34m(\u001b[0m\u001b[0mx_sub\u001b[0m\u001b[0;34m.\u001b[0m\u001b[0mtolist\u001b[0m\u001b[0;34m(\u001b[0m\u001b[0;34m)\u001b[0m\u001b[0;34m)\u001b[0m\u001b[0;34m\u001b[0m\u001b[0;34m\u001b[0m\u001b[0m\n\u001b[0m\u001b[1;32m    128\u001b[0m         \u001b[0mall_values\u001b[0m \u001b[0;34m=\u001b[0m \u001b[0mnp\u001b[0m\u001b[0;34m.\u001b[0m\u001b[0marray\u001b[0m\u001b[0;34m(\u001b[0m\u001b[0mx_sub\u001b[0m\u001b[0;34m.\u001b[0m\u001b[0mtolist\u001b[0m\u001b[0;34m(\u001b[0m\u001b[0;34m)\u001b[0m\u001b[0;34m)\u001b[0m\u001b[0;34m\u001b[0m\u001b[0;34m\u001b[0m\u001b[0m\n\u001b[1;32m    129\u001b[0m         cur_row = pd.DataFrame(data = {'start_window':[cur_window-time_chunk], 'end_window':[cur_window], \n",
      "\u001b[0;32m/opt/conda/lib/python3.7/site-packages/pandas/core/generic.py\u001b[0m in \u001b[0;36m__getattr__\u001b[0;34m(self, name)\u001b[0m\n\u001b[1;32m   5485\u001b[0m         ):\n\u001b[1;32m   5486\u001b[0m             \u001b[0;32mreturn\u001b[0m \u001b[0mself\u001b[0m\u001b[0;34m[\u001b[0m\u001b[0mname\u001b[0m\u001b[0;34m]\u001b[0m\u001b[0;34m\u001b[0m\u001b[0;34m\u001b[0m\u001b[0m\n\u001b[0;32m-> 5487\u001b[0;31m         \u001b[0;32mreturn\u001b[0m \u001b[0mobject\u001b[0m\u001b[0;34m.\u001b[0m\u001b[0m__getattribute__\u001b[0m\u001b[0;34m(\u001b[0m\u001b[0mself\u001b[0m\u001b[0;34m,\u001b[0m \u001b[0mname\u001b[0m\u001b[0;34m)\u001b[0m\u001b[0;34m\u001b[0m\u001b[0;34m\u001b[0m\u001b[0m\n\u001b[0m\u001b[1;32m   5488\u001b[0m \u001b[0;34m\u001b[0m\u001b[0m\n\u001b[1;32m   5489\u001b[0m     \u001b[0;32mdef\u001b[0m \u001b[0m__setattr__\u001b[0m\u001b[0;34m(\u001b[0m\u001b[0mself\u001b[0m\u001b[0;34m,\u001b[0m \u001b[0mname\u001b[0m\u001b[0;34m:\u001b[0m \u001b[0mstr\u001b[0m\u001b[0;34m,\u001b[0m \u001b[0mvalue\u001b[0m\u001b[0;34m)\u001b[0m \u001b[0;34m->\u001b[0m \u001b[0;32mNone\u001b[0m\u001b[0;34m:\u001b[0m\u001b[0;34m\u001b[0m\u001b[0;34m\u001b[0m\u001b[0m\n",
      "\u001b[0;31mAttributeError\u001b[0m: 'DataFrame' object has no attribute 'tolist'"
     ]
    }
   ],
   "source": [
    "#avg_bp(x['a40802'], time_chunk = 60 * 5, time_window = 60,waveform_type = 'ABP')\n",
    "\n",
    "bp_summary = [avg_bp(x[e], time_chunk = 60 * 5, time_window = 60,waveform_type = 'ABP') for e in x.keys()]"
   ]
  },
  {
   "cell_type": "code",
   "execution_count": null,
   "id": "54576324-db83-40eb-9270-7fc77e8a469d",
   "metadata": {},
   "outputs": [],
   "source": [
    "np.array(x['a40802']['ABP'].tolist())"
   ]
  },
  {
   "cell_type": "code",
   "execution_count": null,
   "id": "7a675738-e6f4-45e4-83bd-32e93d85e39d",
   "metadata": {},
   "outputs": [],
   "source": []
  }
 ],
 "metadata": {
  "environment": {
   "name": "tf2-gpu.2-3.m81",
   "type": "gcloud",
   "uri": "gcr.io/deeplearning-platform-release/tf2-gpu.2-3:m81"
  },
  "kernelspec": {
   "display_name": "Python 3",
   "language": "python",
   "name": "python3"
  },
  "language_info": {
   "codemirror_mode": {
    "name": "ipython",
    "version": 3
   },
   "file_extension": ".py",
   "mimetype": "text/x-python",
   "name": "python",
   "nbconvert_exporter": "python",
   "pygments_lexer": "ipython3",
   "version": "3.7.10"
  }
 },
 "nbformat": 4,
 "nbformat_minor": 5
}
