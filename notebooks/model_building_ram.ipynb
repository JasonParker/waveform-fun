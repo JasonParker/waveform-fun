{
 "cells": [
  {
   "cell_type": "code",
   "execution_count": 100,
   "id": "8c25ed67-7470-4555-a891-f869fbff7d4d",
   "metadata": {},
   "outputs": [],
   "source": [
    "# 11/2/21\n",
    "\n",
    "import pandas as pd\n",
    "import xgboost as xgb\n",
    "import numpy as np\n",
    "import sklearn"
   ]
  },
  {
   "cell_type": "code",
   "execution_count": 119,
   "id": "2cf69860-fcba-4eb9-aa4f-91817fdb7190",
   "metadata": {},
   "outputs": [],
   "source": [
    "df = pd.read_csv(\"src/data/processed/processed_all.csv\")\n",
    "df = df.drop(columns=[\"Unnamed: 0\", \"Unnamed: 0.1\"])"
   ]
  },
  {
   "cell_type": "code",
   "execution_count": 20,
   "id": "0e406c0b-ec34-42a4-bba1-37afde197047",
   "metadata": {},
   "outputs": [
    {
     "data": {
      "text/plain": [
       "0.047314598258831234"
      ]
     },
     "execution_count": 20,
     "metadata": {},
     "output_type": "execute_result"
    }
   ],
   "source": [
    "df[(df.current_hypotensive == 0) & (df.hypotensive_in_15 == 1.0)].shape[0] / df.shape[0]"
   ]
  },
  {
   "cell_type": "code",
   "execution_count": 35,
   "id": "5c62f7d6-89f6-4309-8f36-54de6d8ae600",
   "metadata": {},
   "outputs": [],
   "source": [
    "to_drop = df[(df.current_hypotensive == 1) & (df.hypotensive_in_15 == 1.0)]"
   ]
  },
  {
   "cell_type": "code",
   "execution_count": 23,
   "id": "932a25ab-ed43-4f98-a6c2-59407658b47f",
   "metadata": {},
   "outputs": [
    {
     "data": {
      "text/plain": [
       "0.8002750603179296"
      ]
     },
     "execution_count": 23,
     "metadata": {},
     "output_type": "execute_result"
    }
   ],
   "source": [
    "df[(df.current_hypotensive == 0) & (df.hypotensive_in_15 == 0.0)].shape[0] / df.shape[0]"
   ]
  },
  {
   "cell_type": "code",
   "execution_count": 24,
   "id": "f15ed5a9-9065-4611-95cd-5e4395fb6330",
   "metadata": {},
   "outputs": [
    {
     "data": {
      "text/plain": [
       "0.04716149366727732"
      ]
     },
     "execution_count": 24,
     "metadata": {},
     "output_type": "execute_result"
    }
   ],
   "source": [
    "df[(df.current_hypotensive == 1) & (df.hypotensive_in_15 == 0.0)].shape[0] / df.shape[0]"
   ]
  },
  {
   "cell_type": "code",
   "execution_count": 30,
   "id": "656fb553-375e-4408-8a61-7dd9dfa28fb6",
   "metadata": {},
   "outputs": [
    {
     "data": {
      "text/plain": [
       "['[58.80002352 58.80002352 58.80002352',\n",
       " '86.40003456 86.40003456\\n 85.20003408]']"
      ]
     },
     "execution_count": 30,
     "metadata": {},
     "output_type": "execute_result"
    }
   ],
   "source": [
    "df.all_values.iloc[0].split(\" ... \").split"
   ]
  },
  {
   "cell_type": "code",
   "execution_count": 120,
   "id": "c335dceb-e356-4f95-a8f3-9299121928c1",
   "metadata": {},
   "outputs": [],
   "source": [
    "new_df = df.drop(to_drop.index)"
   ]
  },
  {
   "cell_type": "code",
   "execution_count": 121,
   "id": "cb5b14a3-272a-4269-879e-85d17507cdce",
   "metadata": {},
   "outputs": [],
   "source": [
    "new_df[\"hypotensive_in_15\"] = new_df[\"hypotensive_in_15\"].astype(int)"
   ]
  },
  {
   "cell_type": "code",
   "execution_count": 124,
   "id": "ee9083e6-d623-4fa8-9f0d-3afb8baea145",
   "metadata": {},
   "outputs": [],
   "source": [
    "# Add training labels\n",
    "from src.utils.get_labels import get_training_labels\n",
    "\n",
    "training_labels = get_training_labels()\n",
    "\n",
    "new_df[\"training_label\"] = new_df[\"wave\"].apply(lambda x: training_labels[x])"
   ]
  },
  {
   "cell_type": "code",
   "execution_count": 53,
   "id": "01b8273d-8592-46df-8e75-c43ea043b0bb",
   "metadata": {},
   "outputs": [],
   "source": [
    "new_df.to_csv(\"src/data/processed/processed_cleaned.csv\", index=False)"
   ]
  },
  {
   "cell_type": "markdown",
   "id": "aa926d67-5434-4807-9a12-d0d3856e59ef",
   "metadata": {},
   "source": [
    "## Building an XGBoost Model"
   ]
  },
  {
   "cell_type": "code",
   "execution_count": 126,
   "id": "bf6500ac-098c-4780-97de-eaf56705f68a",
   "metadata": {},
   "outputs": [],
   "source": [
    "from sklearn.pipeline import Pipeline\n",
    "\n",
    "def run_pipeline(model, X_train, y_train, X_test, y_test):\n",
    "    \"\"\"Run pipeline in SKlearn to fit and make predictions with a model\n",
    "    Parameters\n",
    "    ----------\n",
    "    model :\n",
    "        Model to use\n",
    "    X_train : np.array, shape=(nrows, ncolumns)\n",
    "        Training features\n",
    "    y_train : np.array, shape=(nrows,)\n",
    "        Training label to predict\n",
    "    X_test : np.array, shape=(nrows, ncolumns)\n",
    "        Test features\n",
    "    y_test : np.array, shape=(nrows,)\n",
    "        Test label to predict\n",
    "    Returns\n",
    "    -------\n",
    "    pipeline : sklearn.Pipeline object\n",
    "        Pipeline of model\n",
    "    pipeline_predictions : np.array(nrows)\n",
    "        Predictions from model\n",
    "    \"\"\"\n",
    "    pipeline = Pipeline(steps=[('m', model)])\n",
    "\n",
    "    pipeline.fit(X_train, y_train)\n",
    "\n",
    "    pipeline_predictions = pipeline.predict(X_test)\n",
    "\n",
    "    print_metrics(pipeline, X_test, y_test, pipeline_predictions)\n",
    "\n",
    "    return pipeline, pipeline_predictions\n",
    "\n",
    "def run_stratified_pipeline(model, X, y, n_splits=5):\n",
    "    \"\"\"Run pipeline in SKlearn to cross-validate model\n",
    "    Parameters\n",
    "    ----------\n",
    "    model :\n",
    "        Model to use\n",
    "    X : np.array, shape=(nrows, ncolumns)\n",
    "        Unsplit features\n",
    "    y : np.array, shape=(nrows,)\n",
    "        Unsplit labels to predict\n",
    "    n_splits : int, default=5\n",
    "        # of splits for K-fold\n",
    "    Returns\n",
    "    -------\n",
    "    pipeline : sklearn.Pipeline object\n",
    "        Pipeline of model\n",
    "    pipeline_predictions : np.array(nrows)\n",
    "        Predictions from model\n",
    "    \"\"\"\n",
    "    pipeline = make_pipeline(model)\n",
    "    # Cross validate model\n",
    "    cv = StratifiedKFold(n_splits=n_splits)\n",
    "    n_scores = cross_validate(pipeline, X, y, scoring=(\"recall\", \"precision\", \"roc_auc\"), cv=cv, error_score=\"raise\")\n",
    "\n",
    "    # report performance\n",
    "    print('Recall: %.3f (%.3f)' % (np.mean(n_scores[\"test_recall\"]), np.std(n_scores[\"test_recall\"])))\n",
    "    print('Precision: %.3f (%.3f)' % (np.mean(n_scores[\"test_precision\"]), np.std(n_scores[\"test_precision\"])))\n",
    "    print('ROC_AUC: %.3f (%.3f)' % (np.mean(n_scores[\"test_roc_auc\"]), np.std(n_scores[\"test_roc_auc\"])))\n",
    "\n",
    "    return pipeline, n_scores\n",
    "\n",
    "def print_metrics(model, X_test, actual, predicted):\n",
    "    \"\"\"Output metrics from model\n",
    "    \n",
    "    Parameters\n",
    "    ----------\n",
    "    model : sklearn or xgboost object\n",
    "        Model to evaluate\n",
    "    X_test : np.array, shape=(nrows, ncolumns)\n",
    "        Test features\n",
    "    actual : np.array, shape=(nrows,)\n",
    "        Test label to predict\n",
    "    predict : np.array, shape=(nrows,)\n",
    "        Label predictions from model\n",
    "    \n",
    "    Returns\n",
    "    -------\n",
    "    \"\"\"\n",
    "    metrics = sklearn.metrics.classification_report(actual, predicted)\n",
    "    print(metrics)\n",
    "\n",
    "    cm = sklearn.metrics.plot_confusion_matrix(model, X_test, actual)\n",
    "    \n",
    "    # Plot ROC curve\n",
    "    roc = sklearn.metrics.plot_roc_curve(model, X_test, actual)\n",
    "    \n",
    "# Write a function to plot feature importances\n",
    "    \n",
    "def plot_feature_importances(feature_importance, std, columns):\n",
    "    \"\"\"Plot feature importances\n",
    "    \n",
    "    Parameters\n",
    "    ----------\n",
    "    feature_importance: np.array, shape=(ncols,)\n",
    "        Array of feature importances\n",
    "    std : np.array, shape=(ncols,)\n",
    "        Standard deviations for feature importances\n",
    "    columns : Pandas.Index\n",
    "        Column names corresponding to feature_importance\n",
    "    \"\"\"\n",
    "    forest_importances = pd.Series(feature_importance, index=columns)\n",
    "\n",
    "    fig, ax = plt.subplots(figsize=(12, 7))\n",
    "    sorted_idx = forest_importances.argsort()\n",
    "    if not isinstance(std, type(None)):\n",
    "        plt.barh(columns[sorted_idx], forest_importances[sorted_idx], xerr=std[sorted_idx])\n",
    "    else:\n",
    "        plt.barh(columns[sorted_idx], forest_importances[sorted_idx])\n",
    "    ax.set_title(\"Feature importances\")\n",
    "    ax.set_xlabel(\"Mean decrease in impurity\")\n",
    "    fig.tight_layout()\n",
    "    \n",
    "    # Write a function to plot feature importances"
   ]
  },
  {
   "cell_type": "code",
   "execution_count": 127,
   "id": "4c77ac57-1d1b-4870-a023-b4b92c231da5",
   "metadata": {},
   "outputs": [],
   "source": [
    "## Convert wave data to numerical\n",
    "new_df.wave, mapping = pd.factorize(new_df.wave)"
   ]
  },
  {
   "cell_type": "code",
   "execution_count": 60,
   "id": "45da8070-b0aa-40dd-bb07-1e1260491380",
   "metadata": {},
   "outputs": [
    {
     "data": {
      "text/plain": [
       "'2017-09-14 18:17:02.088'"
      ]
     },
     "execution_count": 60,
     "metadata": {},
     "output_type": "execute_result"
    }
   ],
   "source": [
    "## Split the data\n",
    "## Need to split so that the train data has the earlier times\n",
    "window_size = 60\n",
    "n_windows = 15 / (window_size / 60) # Number of windows from now"
   ]
  },
  {
   "cell_type": "code",
   "execution_count": 108,
   "id": "0697aeb1-194f-43dc-b80e-c2465e55dcd4",
   "metadata": {},
   "outputs": [],
   "source": [
    "def split_by_time(df, split=0.7):\n",
    "    \"\"\"Split into training and testing DFs by time\"\"\"\n",
    "    wave_ids = list(set(df.wave))\n",
    "    train_splits = dict()\n",
    "    # Get number of rows for each wave ID\n",
    "    for ids in wave_ids:\n",
    "        train_splits[ids] = len(df[df.wave == ids])\n",
    "    \n",
    "    # Split by 70% training, 30% testing\n",
    "    # Designate first 70% of rows per wave to training\n",
    "    train_df = pd.DataFrame().reindex_like(df)\n",
    "    test_df = pd.DataFrame().reindex_like(df)\n",
    "    train_idx = 0\n",
    "    test_idx = 0\n",
    "    for ids, count in train_splits.items():\n",
    "        split = round(count * split)\n",
    "        train = df[df.wave == ids].iloc[:split]\n",
    "        test = df[df.wave == ids].iloc[split:]\n",
    "        train_df.iloc[train_idx:(train_idx+len(train))] = train\n",
    "        test_df.iloc[test_idx:(test_idx+len(test))] = test\n",
    "        train_idx += len(train)\n",
    "        test_idx += len(test)\n",
    "        # Drop NAs\n",
    "    train_df = train_df.dropna()\n",
    "    test_df = test_df.dropna()\n",
    "    \n",
    "    return train_df, test_df"
   ]
  },
  {
   "cell_type": "code",
   "execution_count": 167,
   "id": "2aa96769-b98d-4b80-b314-4a0d196a03d2",
   "metadata": {},
   "outputs": [],
   "source": [
    "def split_by_patient(df, train_split=0.6, test_split=0.2):\n",
    "    \"\"\"Split into training and testing DFs by patients\"\"\"\n",
    "    # Drop the pressor patients to begin with\n",
    "    #df = df.drop(df[df.training_label == 'H1'].index)\n",
    "    \n",
    "    # Initialize training and testing sets\n",
    "    train_df = pd.DataFrame().reindex_like(df)\n",
    "    test_df = pd.DataFrame().reindex_like(df)\n",
    "    valid_df = pd.DataFrame().reindex_like(df)\n",
    "    train_idx = 0\n",
    "    test_idx = 0\n",
    "    valid_idx = 0\n",
    "    for label in (\"H2\", \"C1\", \"C2\", \"H1\"):\n",
    "        subset = df[df.training_label == label]\n",
    "        wave_ids = list(set(subset.wave))\n",
    "        n_ids = len(wave_ids)\n",
    "        n_train = round(n_ids * train_split)\n",
    "        n_test = round(n_ids * test_split)\n",
    "        n_valid = n_ids - n_train - n_test\n",
    "        train_ids = wave_ids[0:n_train]\n",
    "        test_ids = wave_ids[n_train:n_train+n_test]\n",
    "        valid_ids = wave_ids[n_train+n_test:n_ids]\n",
    "        train_data = subset[subset.wave.isin(train_ids)]\n",
    "        test_data = subset[subset.wave.isin(test_ids)]\n",
    "        valid_data = subset[subset.wave.isin(valid_ids)]\n",
    "        train_df.iloc[train_idx:(train_idx+len(train_data))] = train_data\n",
    "        test_df.iloc[test_idx:(test_idx+len(test_data))] = test_data\n",
    "        valid_df.iloc[valid_idx:(valid_idx+len(valid_data))] = valid_data \n",
    "        \n",
    "        train_idx += len(train_data)\n",
    "        test_idx += len(test_data)\n",
    "        valid_idx += len(valid_data)\n",
    "        \n",
    "    # Drop NAs\n",
    "    train_df = train_df.dropna()\n",
    "    test_df = test_df.dropna()\n",
    "    valid_df = valid_df.dropna()\n",
    "    \n",
    "    return train_df, test_df, valid_df"
   ]
  },
  {
   "cell_type": "code",
   "execution_count": 168,
   "id": "5de149b0-3a95-43db-a402-3986fd098276",
   "metadata": {},
   "outputs": [],
   "source": [
    "train_df, test_df, valid_df = split_by_patient(new_df)"
   ]
  },
  {
   "cell_type": "code",
   "execution_count": 169,
   "id": "292e063b-6932-40a0-882e-49813831f619",
   "metadata": {},
   "outputs": [],
   "source": [
    "# Set training and testing variables\n",
    "y_train = np.array(train_df.hypotensive_in_15)\n",
    "y_test = np.array(test_df.hypotensive_in_15)\n",
    "X_train = train_df.drop(columns=[\"hypotensive_in_15\", \"all_values\", \"start_window_time\", \"end_window_time\", \"training_label\"])\n",
    "X_test = test_df.drop(columns=[\"hypotensive_in_15\", \"all_values\", \"start_window_time\", \"end_window_time\", \"training_label\"])"
   ]
  },
  {
   "cell_type": "code",
   "execution_count": 170,
   "id": "8f8f050e-c7ef-4925-9034-14c83291bcc9",
   "metadata": {},
   "outputs": [
    {
     "name": "stderr",
     "output_type": "stream",
     "text": [
      "/opt/conda/lib/python3.7/site-packages/xgboost/sklearn.py:1224: UserWarning: The use of label encoder in XGBClassifier is deprecated and will be removed in a future release. To remove this warning, do the following: 1) Pass option use_label_encoder=False when constructing XGBClassifier object; and 2) Encode your labels (y) as integers starting with 0, i.e. 0, 1, 2, ..., [num_class - 1].\n",
      "  warnings.warn(label_encoder_deprecation_msg, UserWarning)\n"
     ]
    },
    {
     "name": "stdout",
     "output_type": "stream",
     "text": [
      "[16:33:56] WARNING: ../src/learner.cc:576: \n",
      "Parameters: { \"importance\" } might not be used.\n",
      "\n",
      "  This could be a false alarm, with some parameters getting used by language bindings but\n",
      "  then being mistakenly passed down to XGBoost core, or some parameter actually being used\n",
      "  but getting flagged wrongly here. Please open an issue if you find any such cases.\n",
      "\n",
      "\n",
      "[16:33:56] WARNING: ../src/learner.cc:1115: Starting in XGBoost 1.3.0, the default evaluation metric used with the objective 'binary:logistic' was changed from 'error' to 'logloss'. Explicitly set eval_metric if you'd like to restore the old behavior.\n",
      "              precision    recall  f1-score   support\n",
      "\n",
      "         0.0       0.95      0.99      0.97     71607\n",
      "         1.0       0.18      0.04      0.06      3845\n",
      "\n",
      "    accuracy                           0.94     75452\n",
      "   macro avg       0.57      0.51      0.52     75452\n",
      "weighted avg       0.91      0.94      0.92     75452\n",
      "\n"
     ]
    },
    {
     "name": "stderr",
     "output_type": "stream",
     "text": [
      "/opt/conda/lib/python3.7/site-packages/sklearn/utils/deprecation.py:87: FutureWarning: Function plot_confusion_matrix is deprecated; Function `plot_confusion_matrix` is deprecated in 1.0 and will be removed in 1.2. Use one of the class methods: ConfusionMatrixDisplay.from_predictions or ConfusionMatrixDisplay.from_estimator.\n",
      "  warnings.warn(msg, category=FutureWarning)\n",
      "/opt/conda/lib/python3.7/site-packages/sklearn/utils/deprecation.py:87: FutureWarning: Function plot_roc_curve is deprecated; Function `plot_roc_curve` is deprecated in 1.0 and will be removed in 1.2. Use one of the class methods: RocCurveDisplay.from_predictions or RocCurveDisplay.from_estimator.\n",
      "  warnings.warn(msg, category=FutureWarning)\n"
     ]
    },
    {
     "data": {
      "image/png": "[encoded data removed]",
      "text/plain": [
       "<Figure size 432x288 with 2 Axes>"
      ]
     },
     "metadata": {
      "needs_background": "light"
     },
     "output_type": "display_data"
    },
    {
     "data": {
      "image/png": "[encoded data removed]",
      "text/plain": [
       "<Figure size 432x288 with 1 Axes>"
      ]
     },
     "metadata": {
      "needs_background": "light"
     },
     "output_type": "display_data"
    }
   ],
   "source": [
    "from xgboost import XGBClassifier\n",
    "\n",
    "xgb = XGBClassifier(random_state=0, importance=\"weight\")\n",
    "xgb_pipeline, xgb_pipeline_predictions = run_pipeline(xgb,\n",
    "                                                      X_train,\n",
    "                                                      y_train,\n",
    "                                                      X_test,\n",
    "                                                      y_test)"
   ]
  },
  {
   "cell_type": "markdown",
   "id": "df920812-5d75-46cf-81e9-3d188126915a",
   "metadata": {},
   "source": [
    "## Hyperparameter Tuning"
   ]
  },
  {
   "cell_type": "code",
   "execution_count": 106,
   "id": "eddf978d-b261-47d9-82b0-4cf79d63c247",
   "metadata": {},
   "outputs": [
    {
     "name": "stdout",
     "output_type": "stream",
     "text": [
      "env: PROJECT=qwiklabs-gcp-04-133e595cc3fe\n",
      "env: BUCKET=physionet_2009\n",
      "env: REGION=us-central1\n"
     ]
    }
   ],
   "source": [
    "# Change below if necessary\n",
    "PROJECT = !gcloud config get-value project  # noqa: E999\n",
    "PROJECT = PROJECT[0]\n",
    "BUCKET = \"physionet_2009\"\n",
    "REGION = \"us-central1\"\n",
    "\n",
    "%env PROJECT=$PROJECT\n",
    "%env BUCKET=$BUCKET\n",
    "%env REGION=$REGION"
   ]
  },
  {
   "cell_type": "code",
   "execution_count": 93,
   "id": "5b829fb2-6f7f-4e67-aafb-1fbd3db07805",
   "metadata": {},
   "outputs": [
    {
     "data": {
      "text/plain": [
       "0          0\n",
       "1          0\n",
       "2          0\n",
       "3          0\n",
       "4          0\n",
       "          ..\n",
       "378771    53\n",
       "378775    53\n",
       "378777    53\n",
       "378784    53\n",
       "378815    53\n",
       "Name: wave, Length: 338955, dtype: int64"
      ]
     },
     "execution_count": 93,
     "metadata": {},
     "output_type": "execute_result"
    }
   ],
   "source": [
    "%%bash\n",
    "# Output directory and job name\n",
    "TIMESTAMP=$(date -u +%Y%m%d_%H%M%S)\n",
    "BASE_OUTPUT_DIR=gs://${BUCKET}/taxifare_$TIMESTAMP\n",
    "JOB_NAME=taxifare_$TIMESTAMP\n",
    "echo ${BASE_OUTPUT_DIR} ${REGION} ${JOB_NAME}\n",
    "\n",
    "# Vertex AI machines to use for training\n",
    "PYTHON_PACKAGE_URI=\"gs://${BUCKET}/taxifare/taxifare_trainer-0.1.tar.gz\"\n",
    "MACHINE_TYPE=\"n1-standard-4\"\n",
    "REPLICA_COUNT=1\n",
    "PYTHON_PACKAGE_EXECUTOR_IMAGE_URI=\"us-docker.pkg.dev/vertex-ai/training/tf-cpu.2-5:latest\"\n",
    "PYTHON_MODULE=\"trainer.task\"\n",
    "\n",
    "# Model and training hyperparameters\n",
    "BATCH_SIZE=15\n",
    "NUM_EXAMPLES_TO_TRAIN_ON=100\n",
    "NUM_EVALS=10\n",
    "NBUCKETS=10\n",
    "LR=0.001\n",
    "NNSIZE=\"32 8\"\n",
    "\n",
    "# GCS paths\n",
    "GCS_PROJECT_PATH=gs://$BUCKET/taxifare\n",
    "DATA_PATH=$GCS_PROJECT_PATH/data\n",
    "TRAIN_DATA_PATH=$DATA_PATH/taxi-train*\n",
    "EVAL_DATA_PATH=$DATA_PATH/taxi-valid*\n",
    "\n",
    "\n",
    "echo > ./config.yaml \"displayName: $JOB_NAME\n",
    "studySpec:\n",
    "  metrics:\n",
    "  - metricId: val_rmse\n",
    "    goal: MINIMIZE\n",
    "  parameters:\n",
    "  - parameterId: lr\n",
    "    doubleValueSpec:\n",
    "      minValue: 0.0001\n",
    "      maxValue: 0.1\n",
    "    scaleType: UNIT_LOG_SCALE\n",
    "  - parameterId: nbuckets\n",
    "    integerValueSpec:\n",
    "      minValue: 10\n",
    "      maxValue: 25\n",
    "    scaleType: UNIT_LINEAR_SCALE\n",
    "  - parameterId: batch_size\n",
    "    discreteValueSpec:\n",
    "      values:\n",
    "      - 15\n",
    "      - 30\n",
    "      - 50\n",
    "    scaleType: UNIT_LINEAR_SCALE\n",
    "  algorithm: ALGORITHM_UNSPECIFIED # results in Bayesian optimization\n",
    "trialJobSpec:\n",
    "  baseOutputDirectory:\n",
    "    outputUriPrefix: $BASE_OUTPUT_DIR\n",
    "  workerPoolSpecs:\n",
    "  - machineSpec:\n",
    "      machineType: $MACHINE_TYPE\n",
    "    pythonPackageSpec:\n",
    "      args:\n",
    "      - --train_data_path=$TRAIN_DATA_PATH\n",
    "      - --eval_data_path=$EVAL_DATA_PATH\n",
    "      - --batch_size=$BATCH_SIZE\n",
    "      - --num_examples_to_train_on=$NUM_EXAMPLES_TO_TRAIN_ON\n",
    "      - --num_evals=$NUM_EVALS\n",
    "      - --nbuckets=$NBUCKETS\n",
    "      - --lr=$LR\n",
    "      - --nnsize=$NNSIZE\n",
    "      executorImageUri: $PYTHON_PACKAGE_EXECUTOR_IMAGE_URI\n",
    "      packageUris:\n",
    "      - $PYTHON_PACKAGE_URI\n",
    "      pythonModule: $PYTHON_MODULE\n",
    "    replicaCount: $REPLICA_COUNT\""
   ]
  },
  {
   "cell_type": "code",
   "execution_count": 113,
   "id": "202d2d9d-eaef-4539-9a5a-51d6982495b8",
   "metadata": {},
   "outputs": [
    {
     "data": {
      "text/plain": [
       "0"
      ]
     },
     "execution_count": 113,
     "metadata": {},
     "output_type": "execute_result"
    }
   ],
   "source": [
    "min(df.index)"
   ]
  },
  {
   "cell_type": "code",
   "execution_count": null,
   "id": "0df44548-57ca-4dff-8308-dc211864a1fe",
   "metadata": {},
   "outputs": [],
   "source": []
  }
 ],
 "metadata": {
  "environment": {
   "name": "tf2-gpu.2-3.m81",
   "type": "gcloud",
   "uri": "gcr.io/deeplearning-platform-release/tf2-gpu.2-3:m81"
  },
  "kernelspec": {
   "display_name": "Python 3",
   "language": "python",
   "name": "python3"
  },
  "language_info": {
   "codemirror_mode": {
    "name": "ipython",
    "version": 3
   },
   "file_extension": ".py",
   "mimetype": "text/x-python",
   "name": "python",
   "nbconvert_exporter": "python",
   "pygments_lexer": "ipython3",
   "version": "3.7.10"
  }
 },
 "nbformat": 4,
 "nbformat_minor": 5
}
