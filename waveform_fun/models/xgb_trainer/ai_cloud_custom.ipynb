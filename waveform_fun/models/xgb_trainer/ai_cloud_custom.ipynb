{
 "cells": [
  {
   "cell_type": "code",
   "execution_count": 1,
   "id": "b4deb63b-a400-4703-9c66-08ce413212a4",
   "metadata": {},
   "outputs": [],
   "source": [
    "import os\n",
    "\n",
    "os.environ[\"PROJECT_ID\"] = \"qwiklabs-gcp-04-133e595cc3fe\""
   ]
  },
  {
   "cell_type": "code",
   "execution_count": 7,
   "id": "7a6eb136-c4ea-49ec-ab98-4c83775be6ea",
   "metadata": {},
   "outputs": [
    {
     "name": "stdout",
     "output_type": "stream",
     "text": [
      "env: PROJECT=qwiklabs-gcp-04-133e595cc3fe\n",
      "env: BUCKET=physionet_2009\n",
      "env: REGION=us-central1\n",
      "env: MODEL_DISPLAY_NAME=xgb_model_20211110155452\n",
      "env: PYTHON_PACKAGE_URIS=gs://physionet_2009/model_pkgs/waveform_fun-0.0.tar.gz\n",
      "env: MACHINE_TYPE=n1-standard-16\n",
      "env: REPLICA_COUNT=1\n",
      "env: PYTHON_PACKAGE_EXECUTOR_IMAGE_URI=us-docker.pkg.dev/vertex-ai/training/tf-cpu.2-5:latest\n",
      "env: PYTHON_MODULE=waveform_fun.models.xgb_trainer.task\n"
     ]
    }
   ],
   "source": [
    "import os\n",
    "from datetime import datetime\n",
    "\n",
    "import kfp\n",
    "from google.cloud import aiplatform\n",
    "from google_cloud_pipeline_components import aiplatform as gcc_aip\n",
    "from kfp.v2 import compiler\n",
    "from kfp.v2.dsl import component\n",
    "from kfp.v2.google import experimental\n",
    "from task import train\n",
    "\n",
    "# Set variables\n",
    "TIMESTAMP = datetime.now().strftime(\"%Y%m%d%H%M%S\")\n",
    "PROJECT = \"qwiklabs-gcp-04-133e595cc3fe\"\n",
    "BUCKET = \"physionet_2009\"\n",
    "PIPELINE_ROOT = f\"gs://{BUCKET}/pipeline_root\"\n",
    "REGION = \"us-central1\"\n",
    "\n",
    "OUTDIR = f\"gs://{BUCKET}/models/trained_xgb_model_{TIMESTAMP}\"\n",
    "MODEL_DISPLAY_NAME = f\"xgb_model_{TIMESTAMP}\"\n",
    "\n",
    "#PYTHON_PACKAGE_URIS = f\"gs://{BUCKET}/model_pkgs/abp_xgboost_trainer-0.1.tar.gz\"\n",
    "PYTHON_PACKAGE_URIS = f\"gs://{BUCKET}/model_pkgs/waveform_fun-0.0.tar.gz\"\n",
    "MACHINE_TYPE = \"n1-standard-16\"\n",
    "REPLICA_COUNT = 1\n",
    "PYTHON_PACKAGE_EXECUTOR_IMAGE_URI = (\n",
    "    \"us-docker.pkg.dev/vertex-ai/training/tf-cpu.2-5:latest\"\n",
    ")\n",
    "SERVING_CONTAINER_IMAGE_URI = (\n",
    "    \"us-docker.pkg.dev/vertex-ai/prediction/tf2-cpu.2-5:latest\"\n",
    ")\n",
    "PYTHON_MODULE = \"waveform_fun.models.xgb_trainer.task\"\n",
    "\n",
    "%env PROJECT=$PROJECT\n",
    "%env BUCKET=$BUCKET\n",
    "%env REGION=$REGION\n",
    "%env MODEL_DISPLAY_NAME=$MODEL_DISPLAY_NAME\n",
    "%env PYTHON_PACKAGE_URIS=$PYTHON_PACKAGE_URIS\n",
    "%env MACHINE_TYPE=$MACHINE_TYPE\n",
    "%env REPLICA_COUNT=$REPLICA_COUNT\n",
    "%env PYTHON_PACKAGE_EXECUTOR_IMAGE_URI=$PYTHON_PACKAGE_EXECUTOR_IMAGE_URI\n",
    "%env PYTHON_MODULE=$PYTHON_MODULE"
   ]
  },
  {
   "cell_type": "code",
   "execution_count": 8,
   "id": "1e92323a-858d-44bc-a615-b8d33a981cee",
   "metadata": {},
   "outputs": [
    {
     "name": "stderr",
     "output_type": "stream",
     "text": [
      "Using endpoint [https://us-central1-aiplatform.googleapis.com/]\n",
      "CustomJob [projects/741350817607/locations/us-central1/customJobs/2717656293304172544] is submitted successfully.\n",
      "\n",
      "Your job is still active. You may view the status of your job with the command\n",
      "\n",
      "  $ gcloud beta ai custom-jobs describe projects/741350817607/locations/us-central1/customJobs/2717656293304172544\n",
      "\n",
      "or continue streaming the logs with the command\n",
      "\n",
      "  $ gcloud beta ai custom-jobs stream-logs projects/741350817607/locations/us-central1/customJobs/2717656293304172544\n"
     ]
    }
   ],
   "source": [
    "%%bash\n",
    "\n",
    "gcloud beta ai custom-jobs create \\\n",
    "  --region=$REGION \\\n",
    "  --display-name=$MODEL_DISPLAY_NAME \\\n",
    "  --python-package-uris=$PYTHON_PACKAGE_URIS \\\n",
    "  --worker-pool-spec=machine-type=$MACHINE_TYPE,replica-count=$REPLICA_COUNT,executor-image-uri=$PYTHON_PACKAGE_EXECUTOR_IMAGE_URI,python-module=$PYTHON_MODULE"
   ]
  },
  {
   "cell_type": "code",
   "execution_count": 14,
   "id": "02a7e096-0443-435a-b806-cd2313e87b41",
   "metadata": {},
   "outputs": [
    {
     "name": "stdout",
     "output_type": "stream",
     "text": [
      "Using endpoint [https://us-central1-aiplatform.googleapis.com/]\n",
      "createTime: '2021-11-10T15:54:56.999926Z'\n",
      "displayName: xgb_model_20211110155452\n",
      "endTime: '2021-11-10T16:00:36Z'\n",
      "jobSpec:\n",
      "  workerPoolSpecs:\n",
      "  - diskSpec:\n",
      "      bootDiskSizeGb: 100\n",
      "      bootDiskType: pd-ssd\n",
      "    machineSpec:\n",
      "      machineType: n1-standard-16\n",
      "    pythonPackageSpec:\n",
      "      executorImageUri: us-docker.pkg.dev/vertex-ai/training/tf-cpu.2-5:latest\n",
      "      packageUris:\n",
      "      - gs://physionet_2009/model_pkgs/waveform_fun-0.0.tar.gz\n",
      "      pythonModule: waveform_fun.models.xgb_trainer.task\n",
      "    replicaCount: '1'\n",
      "name: projects/741350817607/locations/us-central1/customJobs/2717656293304172544\n",
      "startTime: '2021-11-10T15:59:35Z'\n",
      "state: JOB_STATE_SUCCEEDED\n",
      "updateTime: '2021-11-10T16:00:37.504052Z'\n"
     ]
    }
   ],
   "source": [
    "!gcloud beta ai custom-jobs describe projects/741350817607/locations/us-central1/customJobs/2717656293304172544"
   ]
  },
  {
   "cell_type": "code",
   "execution_count": 13,
   "id": "8b64a88b-a38e-4a43-98ed-078354857ed5",
   "metadata": {},
   "outputs": [
    {
     "name": "stdout",
     "output_type": "stream",
     "text": [
      "Copying gs://physionet_2009/model_pkgs/waveform_fun-0.0.tar.gz...\n",
      "/ [1 files][  9.8 KiB/  9.8 KiB]                                                \n",
      "Operation completed over 1 objects/9.8 KiB.                                      \n"
     ]
    }
   ],
   "source": [
    "!gsutil cp gs://physionet_2009/model_pkgs/waveform_fun-0.0.tar.gz ."
   ]
  },
  {
   "cell_type": "code",
   "execution_count": null,
   "id": "95d85d73-77e3-48f2-b7c7-a1783d5e76ca",
   "metadata": {},
   "outputs": [],
   "source": []
  }
 ],
 "metadata": {
  "environment": {
   "name": "tf2-gpu.2-3.m81",
   "type": "gcloud",
   "uri": "gcr.io/deeplearning-platform-release/tf2-gpu.2-3:m81"
  },
  "kernelspec": {
   "display_name": "Python 3",
   "language": "python",
   "name": "python3"
  },
  "language_info": {
   "codemirror_mode": {
    "name": "ipython",
    "version": 3
   },
   "file_extension": ".py",
   "mimetype": "text/x-python",
   "name": "python",
   "nbconvert_exporter": "python",
   "pygments_lexer": "ipython3",
   "version": "3.7.10"
  }
 },
 "nbformat": 4,
 "nbformat_minor": 5
}
