{
 "cells": [
  {
   "cell_type": "code",
   "execution_count": 3,
   "id": "d91d0c02-6bfb-4b89-bd7f-37f1288fa711",
   "metadata": {},
   "outputs": [],
   "source": [
    "import pandas as pd\n",
    "import numpy as np\n",
    "import sklearn"
   ]
  },
  {
   "cell_type": "code",
   "execution_count": null,
   "id": "baf49e81-3299-4ec0-91df-07f12c34df9f",
   "metadata": {},
   "outputs": [],
   "source": []
  },
  {
   "cell_type": "code",
   "execution_count": null,
   "id": "9cefaa0a-fd41-48dc-a542-1a1ccce9b0af",
   "metadata": {},
   "outputs": [],
   "source": []
  },
  {
   "cell_type": "code",
   "execution_count": 4,
   "id": "b5213ed7-b1b5-4ea3-aa5a-26709f13aa42",
   "metadata": {},
   "outputs": [],
   "source": [
    "df = pd.read_csv(\"data/processed_all.csv\")\n",
    "df = df.drop(columns=[\"Unnamed: 0\", \"Unnamed: 0.1\"])"
   ]
  },
  {
   "cell_type": "code",
   "execution_count": 5,
   "id": "26368f88-f24c-4e0d-8241-20bd6ab76f24",
   "metadata": {},
   "outputs": [],
   "source": [
    "to_drop = df[(df.current_hypotensive == 1) & (df.hypotensive_in_15 == 1.0)]"
   ]
  },
  {
   "cell_type": "code",
   "execution_count": null,
   "id": "f76124ff-de3a-4d42-846f-5e64bed1e134",
   "metadata": {},
   "outputs": [],
   "source": []
  },
  {
   "cell_type": "code",
   "execution_count": 6,
   "id": "88894cd5-3ddd-4f17-93f7-a146e3ef63aa",
   "metadata": {},
   "outputs": [],
   "source": [
    "new_df = df.drop(to_drop.index)"
   ]
  },
  {
   "cell_type": "code",
   "execution_count": 7,
   "id": "cdb3faf8-bd5e-4613-991f-af5b6bab343d",
   "metadata": {},
   "outputs": [],
   "source": [
    "new_df[\"hypotensive_in_15\"] = new_df[\"hypotensive_in_15\"].astype(int)"
   ]
  },
  {
   "cell_type": "code",
   "execution_count": null,
   "id": "98a58f07-d279-45a3-a2d2-5814db7031b8",
   "metadata": {},
   "outputs": [],
   "source": []
  },
  {
   "cell_type": "code",
   "execution_count": 8,
   "id": "a2ee48f2-603d-43c1-b0a7-fde3aa886532",
   "metadata": {},
   "outputs": [],
   "source": [
    "# Add training labels\n",
    "from src.utils.get_labels import get_training_labels\n",
    "\n",
    "training_labels = get_training_labels()\n",
    "\n",
    "new_df[\"training_label\"] = new_df[\"wave\"].apply(lambda x: training_labels[x])"
   ]
  },
  {
   "cell_type": "code",
   "execution_count": 9,
   "id": "8277066e-80ac-40ce-b4e2-5b0c0aaf257f",
   "metadata": {},
   "outputs": [],
   "source": [
    "new_df.to_csv(\"src/data/processed_cleaned.csv\", index=False)"
   ]
  },
  {
   "cell_type": "code",
   "execution_count": 10,
   "id": "f2402418-cff2-46c3-aa46-50b55d6c4518",
   "metadata": {},
   "outputs": [],
   "source": [
    "## Convert wave data to numerical\n",
    "new_df.wave, mapping = pd.factorize(new_df.wave)\n"
   ]
  },
  {
   "cell_type": "code",
   "execution_count": 11,
   "id": "c6fb34ee-826b-4463-b52c-5b5ee8ddf0b5",
   "metadata": {},
   "outputs": [],
   "source": [
    "\n",
    "def split_by_patient(df, train_split=0.6, test_split=0.2):\n",
    "    \"\"\"Split into training and testing DFs by patients\"\"\"\n",
    "    # Drop the pressor patients to begin with\n",
    "    #df = df.drop(df[df.training_label == 'H1'].index)\n",
    "    \n",
    "    # Initialize training and testing sets\n",
    "    train_df = pd.DataFrame().reindex_like(df)\n",
    "    test_df = pd.DataFrame().reindex_like(df)\n",
    "    valid_df = pd.DataFrame().reindex_like(df)\n",
    "    train_idx = 0\n",
    "    test_idx = 0\n",
    "    valid_idx = 0\n",
    "    for label in (\"H2\", \"C1\", \"C2\", \"H1\"):\n",
    "        subset = df[df.training_label == label]\n",
    "        wave_ids = list(set(subset.wave))\n",
    "        n_ids = len(wave_ids)\n",
    "        n_train = round(n_ids * train_split)\n",
    "        n_test = round(n_ids * test_split)\n",
    "        n_valid = n_ids - n_train - n_test\n",
    "        train_ids = wave_ids[0:n_train]\n",
    "        test_ids = wave_ids[n_train:n_train+n_test]\n",
    "        valid_ids = wave_ids[n_train+n_test:n_ids]\n",
    "        train_data = subset[subset.wave.isin(train_ids)]\n",
    "        test_data = subset[subset.wave.isin(test_ids)]\n",
    "        valid_data = subset[subset.wave.isin(valid_ids)]\n",
    "        train_df.iloc[train_idx:(train_idx+len(train_data))] = train_data\n",
    "        test_df.iloc[test_idx:(test_idx+len(test_data))] = test_data\n",
    "        valid_df.iloc[valid_idx:(valid_idx+len(valid_data))] = valid_data \n",
    "        \n",
    "        train_idx += len(train_data)\n",
    "        test_idx += len(test_data)\n",
    "        valid_idx += len(valid_data)\n",
    "        \n",
    "    # Drop NAs\n",
    "    train_df = train_df.dropna()\n",
    "    test_df = test_df.dropna()\n",
    "    valid_df = valid_df.dropna()\n",
    "    \n",
    "    return train_df, test_df, valid_df"
   ]
  },
  {
   "cell_type": "code",
   "execution_count": 12,
   "id": "9da609b7-3047-461f-a8b2-a94e9e0a075c",
   "metadata": {},
   "outputs": [],
   "source": [
    "train_df, test_df, valid_df = split_by_patient(new_df)\n",
    "\n",
    "train_df[['wave', 'start_window', 'end_window', 'avg_sys', 'avg_dias', 'avg_map',\n",
    "       'current_hypotensive', 'hypotensive_in_15']].to_csv('data/dnn/training_data_cleaned.csv',header=None,index = False)\n",
    "\n",
    "test_df[['wave', 'start_window', 'end_window', 'avg_sys', 'avg_dias', 'avg_map',\n",
    "       'current_hypotensive', 'hypotensive_in_15']].to_csv('data/dnn/test_data_cleaned.csv',header=None,index = False)\n",
    "\n",
    "valid_df[['wave', 'start_window', 'end_window', 'avg_sys', 'avg_dias', 'avg_map',\n",
    "       'current_hypotensive', 'hypotensive_in_15']].to_csv('data/dnn/valid_data_cleaned.csv',header=None,index = False)"
   ]
  },
  {
   "cell_type": "code",
   "execution_count": null,
   "id": "839dd7b7-847b-4a27-99f7-160863300b70",
   "metadata": {},
   "outputs": [],
   "source": []
  },
  {
   "cell_type": "code",
   "execution_count": null,
   "id": "ca9bcf65-9918-4d7c-b436-b0e63529ed6a",
   "metadata": {},
   "outputs": [],
   "source": []
  },
  {
   "cell_type": "code",
   "execution_count": null,
   "id": "f5f3f1c0-1d5d-46e2-a244-e23ba12734bd",
   "metadata": {},
   "outputs": [],
   "source": []
  }
 ],
 "metadata": {
  "environment": {
   "kernel": "python3",
   "name": "tf2-gpu.2-3.m82",
   "type": "gcloud",
   "uri": "gcr.io/deeplearning-platform-release/tf2-gpu.2-3:m82"
  },
  "kernelspec": {
   "display_name": "Python 3",
   "language": "python",
   "name": "python3"
  },
  "language_info": {
   "codemirror_mode": {
    "name": "ipython",
    "version": 3
   },
   "file_extension": ".py",
   "mimetype": "text/x-python",
   "name": "python",
   "nbconvert_exporter": "python",
   "pygments_lexer": "ipython3",
   "version": "3.7.10"
  }
 },
 "nbformat": 4,
 "nbformat_minor": 5
}
