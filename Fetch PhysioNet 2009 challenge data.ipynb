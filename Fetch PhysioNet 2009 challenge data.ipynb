{
 "cells": [
  {
   "cell_type": "markdown",
   "id": "3ed4ca49-97b3-48d7-aba1-f280bcbb6c42",
   "metadata": {},
   "source": [
    "## Fetch 2009 PhysioNet challenge data"
   ]
  },
  {
   "cell_type": "markdown",
   "id": "041c6cc1-a792-4d9c-a5ad-427e82100ca9",
   "metadata": {},
   "source": [
    "https://archive.physionet.org/challenge/2009/"
   ]
  },
  {
   "cell_type": "code",
   "execution_count": 2,
   "id": "814f1f80-7b98-4c7c-8bdc-6a1f30a0e32c",
   "metadata": {},
   "outputs": [],
   "source": [
    "from bs4 import BeautifulSoup\n",
    "import gcsfs  ## Google Cloud Storage file system\n",
    "import os\n",
    "import pandas as pd\n",
    "import requests\n",
    "import tarfile\n",
    "import wfdb\n",
    "\n",
    "from src.data.parsing import parse_txt\n",
    "\n",
    "source_url = 'https://archive.physionet.org/challenge/2009/training-set-clinical-data.tar.gz'\n",
    "target_dir = 'data'\n",
    "target_path = f'{target_dir}/training-set-clinical-data.tar.gz'\n"
   ]
  },
  {
   "cell_type": "code",
   "execution_count": null,
   "id": "2546ed4a-2505-4864-8fd2-d2c4d85d353d",
   "metadata": {},
   "outputs": [],
   "source": [
    "%env PROJECT_ID="
   ]
  },
  {
   "cell_type": "code",
   "execution_count": 5,
   "id": "3dd6d940-bd9d-49df-a740-800fdb396f41",
   "metadata": {},
   "outputs": [
    {
     "data": {
      "text/plain": [
       "['physionet_2009/mimic2cdb',\n",
       " 'physionet_2009/test-set-a',\n",
       " 'physionet_2009/test-set-b',\n",
       " 'physionet_2009/train_wave']"
      ]
     },
     "execution_count": 5,
     "metadata": {},
     "output_type": "execute_result"
    }
   ],
   "source": [
    "fs = gcsfs.GCSFileSystem(project=os.environ['PROJECT_ID'])\n",
    "bucket = 'physionet_2009'\n",
    "fs.ls(bucket)"
   ]
  },
  {
   "cell_type": "code",
   "execution_count": 10,
   "id": "2abf2d6b-96a4-4a0d-90aa-f1ca6d717042",
   "metadata": {},
   "outputs": [],
   "source": [
    "def fetch_settings():\n",
    "    return {\n",
    "        'fetch_clinical_data': False,\n",
    "        'verbose': False,\n",
    "        'google_cloud': {\n",
    "            'project': os.environ['PROJECT_ID']\n",
    "        }\n",
    "    }"
   ]
  },
  {
   "cell_type": "markdown",
   "id": "3de98a68-d95c-4fc1-8705-2510c65e999f",
   "metadata": {},
   "source": [
    "## Fetch archive of PhysioNet challenge records"
   ]
  },
  {
   "cell_type": "code",
   "execution_count": null,
   "id": "dba5e819-a651-4605-a620-31767082205f",
   "metadata": {},
   "outputs": [],
   "source": [
    "if fetch_settings()['fetch_clinical_data']:\n",
    "    response = requests.get(source_url, stream=True)\n",
    "    if response.status_code == 200:\n",
    "        with open(target_path, 'wb') as f:\n",
    "            f.write(response.raw.read())\n",
    "\n",
    "    with tarfile.open(target_path, \"r:gz\") as tar_file:\n",
    "        tar_file.extractall(target_dir)\n",
    "else: \n",
    "    print(\"Use cached clinical data\")"
   ]
  },
  {
   "cell_type": "markdown",
   "id": "379bb493-38af-4a58-accc-60fb78990fff",
   "metadata": {},
   "source": [
    "## Training data and labels"
   ]
  },
  {
   "cell_type": "code",
   "execution_count": 116,
   "id": "7c51c291-d7e9-43e0-94c5-e227091a82de",
   "metadata": {},
   "outputs": [
    {
     "data": {
      "text/plain": [
       "True"
      ]
     },
     "execution_count": 116,
     "metadata": {},
     "output_type": "execute_result"
    }
   ],
   "source": [
    "training_set = [\n",
    "'s21775', 's20658', 's22466','s05336', 's06349',\n",
    "'s08718', 's20794', 's24799', 's26318', 's14204',\n",
    "'s25699', 's07125', 's19208', 's12821', 's06637',\n",
    "    \n",
    "'s02395', 's08779', 's23641', 's24924', 's00439', \n",
    "'s23015', 's19603', 's02172', 's26105', 's23594',\n",
    "'s21817', 's24984', 's25602', 's23591', 's15687',\n",
    "    \n",
    "'s17765', 's04860', 's26097', 's00318', 's14495',\n",
    "'s22888', 's26296', 's06180', 's07468', 's24004',\n",
    "'s03133', 's02280', 's09672', 's19418', 's15465',\n",
    "    \n",
    "'s05786', 's25222', 's02561', 's24923', 's16019',\n",
    "'s04286', 's17069', 's07860', 's23020', 's24431',\n",
    "'s22657', 's09341', 's05126', 's10611', 's05289'\n",
    "]\n",
    "\n",
    "training_labels = [\n",
    "'H1', 'H1', 'H1', 'H1', 'H1', 'H1', 'H1', 'H1',\n",
    "'H1', 'H1', 'H1', 'H1', 'H1', 'H1', 'H1',\n",
    "    \n",
    "'H2', 'H2', 'H2', 'H2', 'H2', 'H2', 'H2', 'H2',\n",
    "'H2', 'H2', 'H2', 'H2', 'H2', 'H2', 'H2',\n",
    "    \n",
    "'C1', 'C1', 'C1', 'C1', 'C1', 'C1', 'C1', 'C1', \n",
    "'C1', 'C1', 'C1', 'C1', 'C1', 'C1', 'C1',\n",
    "\n",
    "'C2', 'C2', 'C2', 'C2', 'C2', 'C2', 'C2', 'C2',\n",
    "'C2', 'C2', 'C2', 'C2', 'C2', 'C2', 'C2'\n",
    "]\n",
    "\n",
    "len(training_set) == len(training_labels)"
   ]
  },
  {
   "cell_type": "markdown",
   "id": "a71eefb8-46d7-4bef-9b0b-a1d70ec5992e",
   "metadata": {},
   "source": [
    "## Handle individual records"
   ]
  },
  {
   "cell_type": "code",
   "execution_count": null,
   "id": "9455e75d-2661-4ad2-9929-d2da97aca3a9",
   "metadata": {},
   "outputs": [],
   "source": [
    "record_map = pd.read_csv(\n",
    "    fs.open(f'{bucket}/mimic2cdb/MAP', 'rb'),\n",
    "    sep=\"\\t\", \n",
    "    names = ['Clinical', 'Wave', 'Sex', 'Age', 'Birthdate', 'Waveform'],\n",
    "    index_col = False, \n",
    "    skiprows = [0,1])\n",
    "record_map = record_map[record_map['Clinical'].isin(training_set)]"
   ]
  },
  {
   "cell_type": "markdown",
   "id": "b310d664-13a7-4532-9b17-32ca7512a388",
   "metadata": {},
   "source": [
    "## Functions to generate waveform data set"
   ]
  },
  {
   "cell_type": "code",
   "execution_count": 110,
   "id": "8d3ea9a3-491c-4531-ae93-f2155f29fda7",
   "metadata": {},
   "outputs": [],
   "source": [
    "def generate_record_map():\n",
    "    settings = fetch_settings()\n",
    "    df = pd.read_csv(\n",
    "        fs.open(f'{bucket}/mimic2cdb/MAP', 'rb'),\n",
    "        sep=\"\\t\", \n",
    "        names = ['Clinical', 'Wave', 'Sex', 'Age', 'Birthdate', 'Waveform'],\n",
    "        index_col = False, \n",
    "        skiprows = [0,1])\n",
    "    df = df[df['Clinical'].isin(training_set)]\n",
    "    if settings['verbose']:\n",
    "        print(f\"Dimensions of data set: {df.shape}\")\n",
    "        print(f\"Data set reflects data for {len(df['Clinical'].unique().tolist())} clinical IDs\")\n",
    "        print(f\"Data set reflects data for {len(df['Wave'].unique().tolist())} waveform IDs\")\n",
    "    return({'data':df, \n",
    "            'clinical_entities': df['Clinical'].unique().tolist(),\n",
    "            'waveform_entities': df['Wave'].unique().tolist()\n",
    "           })\n",
    "\n",
    "\n",
    "def filter_data_to_entity(df, entity_colname, entity):\n",
    "    return df[df[entity_colname] == entity]\n",
    "\n",
    "\n",
    "def generate_waveform_dataset(e, df):\n",
    "    settings = fetch_settings()\n",
    "    data = filter_data_to_entity(df, 'Wave', e)\n",
    "    data = data.squeeze().to_dict()\n",
    "    result = {'raw_data': data}\n",
    "    \n",
    "    if settings['verbose']: print(data)\n",
    "    record = wfdb.rdrecord(f\"data/train_wave/{data['Wave']}\")\n",
    "    return {\n",
    "        'raw_data': data,\n",
    "        'waveform_record': record.__dict__\n",
    "    }\n",
    "    "
   ]
  },
  {
   "cell_type": "markdown",
   "id": "9cff903b-78ac-426c-a6b1-307277b37b70",
   "metadata": {},
   "source": [
    "## Generate the data set"
   ]
  },
  {
   "cell_type": "code",
   "execution_count": null,
   "id": "6991b147-5129-454d-89d5-4a35d2cea3da",
   "metadata": {},
   "outputs": [],
   "source": [
    "record_map = generate_record_map()\n",
    "x = {e:generate_waveform_dataset(e, record_map['data']) for e in record_map['waveform_entities'][0:5]}\n",
    "x.keys()"
   ]
  },
  {
   "cell_type": "code",
   "execution_count": null,
   "id": "c2deb8cd-7b34-4de9-8d50-0820ee58a23b",
   "metadata": {},
   "outputs": [],
   "source": [
    "x['a40099']['waveform_record']"
   ]
  },
  {
   "cell_type": "code",
   "execution_count": 117,
   "id": "8db449a8-0c4c-4780-8892-dd22d0f2a750",
   "metadata": {},
   "outputs": [
    {
     "name": "stdout",
     "output_type": "stream",
     "text": [
      "AxesSubplot(0.125,0.125;0.775x0.755)\n"
     ]
    },
    {
     "data": {
      "image/png": "[encoded data removed]",
      "text/plain": [
       "<Figure size 432x288 with 1 Axes>"
      ]
     },
     "metadata": {
      "needs_background": "light"
     },
     "output_type": "display_data"
    }
   ],
   "source": [
    "record = x['a40099']['waveform_record']\n",
    "df = pd.DataFrame(record['p_signal'], columns = record['sig_name'])\n",
    "df = df[~df['ABP'].isna()]\n",
    "\n",
    "## Think we're isolating an arterial waveform show systolic and diastolic pressure\n",
    "## as well as dicrotic notch\n",
    "print(df[['ABP']].iloc[1419800:1420000].plot())"
   ]
  },
  {
   "cell_type": "code",
   "execution_count": null,
   "id": "ef213a25-3ce0-4472-91a0-89b9093abb03",
   "metadata": {},
   "outputs": [],
   "source": []
  }
 ],
 "metadata": {
  "environment": {
   "name": "common-cpu.m80",
   "type": "gcloud",
   "uri": "gcr.io/deeplearning-platform-release/base-cpu:m80"
  },
  "kernelspec": {
   "display_name": "Python 3",
   "language": "python",
   "name": "python3"
  },
  "language_info": {
   "codemirror_mode": {
    "name": "ipython",
    "version": 3
   },
   "file_extension": ".py",
   "mimetype": "text/x-python",
   "name": "python",
   "nbconvert_exporter": "python",
   "pygments_lexer": "ipython3",
   "version": "3.7.10"
  }
 },
 "nbformat": 4,
 "nbformat_minor": 5
}
